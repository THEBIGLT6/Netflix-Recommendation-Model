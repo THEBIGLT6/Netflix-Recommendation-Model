{
 "cells": [
  {
   "cell_type": "markdown",
   "id": "f63c8bcf",
   "metadata": {},
   "source": [
    "# Netfilx Movie Recommendation Model"
   ]
  },
  {
   "cell_type": "code",
   "execution_count": 3,
   "id": "ba5ba800",
   "metadata": {},
   "outputs": [],
   "source": [
    "# Import packages\n",
    "import pandas as pd"
   ]
  },
  {
   "cell_type": "code",
   "execution_count": 7,
   "id": "fa0d3e19",
   "metadata": {},
   "outputs": [
    {
     "name": "stdout",
     "output_type": "stream",
     "text": [
      "       movie_id          title content_type genre_primary genre_secondary  \\\n",
      "9    movie_0010      Dream War           TV      Thriller       Animation   \n",
      "18   movie_0019      An Legend           TV        Sci-Fi           Crime   \n",
      "20   movie_0021    Family Love           TV        Family        Thriller   \n",
      "71   movie_0072  Storm Warrior           TV        Sci-Fi           Drama   \n",
      "127  movie_0128        A Quest           TV       History             NaN   \n",
      "\n",
      "     release_year  duration_minutes rating language country_of_origin  \\\n",
      "9            2019              49.0   TV-Y  Italian             Japan   \n",
      "18           2004              48.0  TV-PG  English                UK   \n",
      "20           2020              52.0  TV-PG  English               USA   \n",
      "71           2015              73.0  TV-14   French       South Korea   \n",
      "127          2008              58.0  NC-17  English            Canada   \n",
      "\n",
      "     imdb_rating  production_budget  box_office_revenue  number_of_seasons  \\\n",
      "9            8.2                NaN                 NaN               12.0   \n",
      "18           9.3                NaN                 NaN                1.0   \n",
      "20           8.5                NaN                 NaN                5.0   \n",
      "71           NaN                NaN                 NaN               14.0   \n",
      "127          4.9                NaN                 NaN                2.0   \n",
      "\n",
      "     number_of_episodes  is_netflix_original added_to_platform  \\\n",
      "9                  32.0                False        2021-09-20   \n",
      "18                155.0                False        2022-05-12   \n",
      "20                106.0                False        2023-07-25   \n",
      "71                 75.0                False        2021-06-09   \n",
      "127               153.0                False        2022-03-29   \n",
      "\n",
      "     content_warning  \n",
      "9              False  \n",
      "18             False  \n",
      "20             False  \n",
      "71             False  \n",
      "127            False  \n"
     ]
    }
   ],
   "source": [
    "# Load datasets\n",
    "movies_df = pd.read_csv('Dataset/movies.csv')\n",
    "users_df = pd.read_csv('Dataset/users.csv')\n",
    "reviews_df = pd.read_csv('Dataset/reviews.csv')\n",
    "\n",
    "# Group together limited series and TV Show to TV\n",
    "movies_df['content_type'] = movies_df['content_type'].replace({'Limited Series': 'TV','TV Show': 'TV'})\n",
    "\n",
    "# Divide movies.csv by each 'content_type' ( Stand-up Comedy, Movie, Documentary, TV )\n",
    "content_types = movies_df['content_type'].unique()\n",
    "media_dict = {ctype: movies_df[movies_df['content_type'] == ctype] for ctype in content_types}\n"
   ]
  },
  {
   "cell_type": "code",
   "execution_count": null,
   "id": "ebffb6a4-ec27-4fb3-8264-5c91031597d5",
   "metadata": {},
   "outputs": [],
   "source": []
  }
 ],
 "metadata": {
  "kernelspec": {
   "display_name": "Python 3 (ipykernel)",
   "language": "python",
   "name": "python3"
  },
  "language_info": {
   "codemirror_mode": {
    "name": "ipython",
    "version": 3
   },
   "file_extension": ".py",
   "mimetype": "text/x-python",
   "name": "python",
   "nbconvert_exporter": "python",
   "pygments_lexer": "ipython3",
   "version": "3.10.9"
  }
 },
 "nbformat": 4,
 "nbformat_minor": 5
}
